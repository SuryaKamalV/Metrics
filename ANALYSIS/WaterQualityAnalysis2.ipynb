{
 "cells": [
  {
   "cell_type": "code",
   "execution_count": 1,
   "metadata": {},
   "outputs": [],
   "source": [
    "#MODULE 1: DATA ACQUISITION\n",
    "\n",
    "import numpy as np\n",
    "import pandas as pd\n",
    "\n",
    "import warnings\n",
    "# ignore warnings\n",
    "warnings.filterwarnings(\"ignore\")"
   ]
  },
  {
   "cell_type": "code",
   "execution_count": 2,
   "metadata": {},
   "outputs": [
    {
     "data": {
      "text/html": [
       "<div>\n",
       "<style scoped>\n",
       "    .dataframe tbody tr th:only-of-type {\n",
       "        vertical-align: middle;\n",
       "    }\n",
       "\n",
       "    .dataframe tbody tr th {\n",
       "        vertical-align: top;\n",
       "    }\n",
       "\n",
       "    .dataframe thead th {\n",
       "        text-align: right;\n",
       "    }\n",
       "</style>\n",
       "<table border=\"1\" class=\"dataframe\">\n",
       "  <thead>\n",
       "    <tr style=\"text-align: right;\">\n",
       "      <th></th>\n",
       "      <th>State Name</th>\n",
       "      <th>District Name</th>\n",
       "      <th>Block Name</th>\n",
       "      <th>Panchayat Name</th>\n",
       "      <th>Village Name</th>\n",
       "      <th>Habitation Name</th>\n",
       "      <th>Quality Parameter</th>\n",
       "      <th>Year</th>\n",
       "    </tr>\n",
       "  </thead>\n",
       "  <tbody>\n",
       "    <tr>\n",
       "      <th>0</th>\n",
       "      <td>ANDHRA PRADESH</td>\n",
       "      <td>EAST GODAVARI(04)</td>\n",
       "      <td>PRATHIPADU(10)</td>\n",
       "      <td>GOKAVARAM(04)</td>\n",
       "      <td>VANTHADA(014 )</td>\n",
       "      <td>VANTHADA(0404410014010400)</td>\n",
       "      <td>Salinity</td>\n",
       "      <td>1/4/2009</td>\n",
       "    </tr>\n",
       "    <tr>\n",
       "      <th>1</th>\n",
       "      <td>ANDHRA PRADESH</td>\n",
       "      <td>EAST GODAVARI(04)</td>\n",
       "      <td>PRATHIPADU(10)</td>\n",
       "      <td>GOKAVARAM(04)</td>\n",
       "      <td>PANDAVULAPALEM(022 )</td>\n",
       "      <td>PANDAVULAPALEM(0404410022010400)</td>\n",
       "      <td>Fluoride</td>\n",
       "      <td>1/4/2009</td>\n",
       "    </tr>\n",
       "    <tr>\n",
       "      <th>2</th>\n",
       "      <td>ANDHRA PRADESH</td>\n",
       "      <td>EAST GODAVARI(04)</td>\n",
       "      <td>PRATHIPADU(10)</td>\n",
       "      <td>GAJJANAPUDI(06)</td>\n",
       "      <td>G. KOTHURU(023 )</td>\n",
       "      <td>G. KOTHURU(0404410023010600)</td>\n",
       "      <td>Salinity</td>\n",
       "      <td>1/4/2009</td>\n",
       "    </tr>\n",
       "    <tr>\n",
       "      <th>3</th>\n",
       "      <td>ANDHRA PRADESH</td>\n",
       "      <td>EAST GODAVARI(04)</td>\n",
       "      <td>PRATHIPADU(10)</td>\n",
       "      <td>GAJJANAPUDI(06)</td>\n",
       "      <td>GAJJANAPUDI(029 )</td>\n",
       "      <td>GAJJANAPUDI(0404410029010600)</td>\n",
       "      <td>Salinity</td>\n",
       "      <td>1/4/2009</td>\n",
       "    </tr>\n",
       "    <tr>\n",
       "      <th>4</th>\n",
       "      <td>ANDHRA PRADESH</td>\n",
       "      <td>EAST GODAVARI(04)</td>\n",
       "      <td>PRATHIPADU(10)</td>\n",
       "      <td>CHINTALURU(10)</td>\n",
       "      <td>CHINTALURU(028 )</td>\n",
       "      <td>CHINTALURU(0404410028011000)</td>\n",
       "      <td>Salinity</td>\n",
       "      <td>1/4/2009</td>\n",
       "    </tr>\n",
       "  </tbody>\n",
       "</table>\n",
       "</div>"
      ],
      "text/plain": [
       "       State Name      District Name      Block Name   Panchayat Name  \\\n",
       "0  ANDHRA PRADESH  EAST GODAVARI(04)  PRATHIPADU(10)    GOKAVARAM(04)   \n",
       "1  ANDHRA PRADESH  EAST GODAVARI(04)  PRATHIPADU(10)    GOKAVARAM(04)   \n",
       "2  ANDHRA PRADESH  EAST GODAVARI(04)  PRATHIPADU(10)  GAJJANAPUDI(06)   \n",
       "3  ANDHRA PRADESH  EAST GODAVARI(04)  PRATHIPADU(10)  GAJJANAPUDI(06)   \n",
       "4  ANDHRA PRADESH  EAST GODAVARI(04)  PRATHIPADU(10)   CHINTALURU(10)   \n",
       "\n",
       "           Village Name                   Habitation Name Quality Parameter  \\\n",
       "0        VANTHADA(014 )        VANTHADA(0404410014010400)          Salinity   \n",
       "1  PANDAVULAPALEM(022 )  PANDAVULAPALEM(0404410022010400)          Fluoride   \n",
       "2      G. KOTHURU(023 )      G. KOTHURU(0404410023010600)          Salinity   \n",
       "3     GAJJANAPUDI(029 )     GAJJANAPUDI(0404410029010600)          Salinity   \n",
       "4      CHINTALURU(028 )      CHINTALURU(0404410028011000)          Salinity   \n",
       "\n",
       "       Year  \n",
       "0  1/4/2009  \n",
       "1  1/4/2009  \n",
       "2  1/4/2009  \n",
       "3  1/4/2009  \n",
       "4  1/4/2009  "
      ]
     },
     "execution_count": 2,
     "metadata": {},
     "output_type": "execute_result"
    }
   ],
   "source": [
    "import pandas as pd\n",
    "#Loading Data\n",
    "df = pd.read_csv(\"C:/Users/surya/Metrics/IndiaAffectedWaterQualityAreas.csv\",encoding='latin1')\n",
    "df.head()"
   ]
  },
  {
   "cell_type": "code",
   "execution_count": 3,
   "metadata": {},
   "outputs": [
    {
     "data": {
      "text/plain": [
       "Index(['State Name', 'District Name', 'Block Name', 'Panchayat Name',\n",
       "       'Village Name', 'Habitation Name', 'Quality Parameter', 'Year'],\n",
       "      dtype='object')"
      ]
     },
     "execution_count": 3,
     "metadata": {},
     "output_type": "execute_result"
    }
   ],
   "source": [
    "df.columns"
   ]
  },
  {
   "cell_type": "code",
   "execution_count": 4,
   "metadata": {},
   "outputs": [
    {
     "data": {
      "text/plain": [
       "(550242, 8)"
      ]
     },
     "execution_count": 4,
     "metadata": {},
     "output_type": "execute_result"
    }
   ],
   "source": [
    "df.shape"
   ]
  },
  {
   "cell_type": "code",
   "execution_count": 5,
   "metadata": {},
   "outputs": [
    {
     "data": {
      "text/plain": [
       "State Name           object\n",
       "District Name        object\n",
       "Block Name           object\n",
       "Panchayat Name       object\n",
       "Village Name         object\n",
       "Habitation Name      object\n",
       "Quality Parameter    object\n",
       "Year                 object\n",
       "dtype: object"
      ]
     },
     "execution_count": 5,
     "metadata": {},
     "output_type": "execute_result"
    }
   ],
   "source": [
    "df.dtypes"
   ]
  },
  {
   "cell_type": "code",
   "execution_count": 6,
   "metadata": {},
   "outputs": [
    {
     "data": {
      "text/plain": [
       "State Name           0\n",
       "District Name        0\n",
       "Block Name           0\n",
       "Panchayat Name       0\n",
       "Village Name         0\n",
       "Habitation Name      0\n",
       "Quality Parameter    0\n",
       "Year                 0\n",
       "dtype: int64"
      ]
     },
     "execution_count": 6,
     "metadata": {},
     "output_type": "execute_result"
    }
   ],
   "source": [
    "df.isnull().sum()"
   ]
  },
  {
   "cell_type": "code",
   "execution_count": 7,
   "metadata": {},
   "outputs": [
    {
     "data": {
      "text/plain": [
       "(169, 8)"
      ]
     },
     "execution_count": 7,
     "metadata": {},
     "output_type": "execute_result"
    }
   ],
   "source": [
    "#MODULE 2: DATA FILTERING\n",
    "\n",
    "#Checking for Duplicates\n",
    "Duplicates=df[df.duplicated(keep=False)]\n",
    "Duplicates.shape"
   ]
  },
  {
   "cell_type": "code",
   "execution_count": 8,
   "metadata": {},
   "outputs": [
    {
     "data": {
      "text/plain": [
       "(550073, 8)"
      ]
     },
     "execution_count": 8,
     "metadata": {},
     "output_type": "execute_result"
    }
   ],
   "source": [
    "#Dropping Duplicates\n",
    "df1=df.drop_duplicates(subset=['State Name', 'District Name', 'Block Name', 'Panchayat Name',\n",
    "       'Village Name', 'Habitation Name', 'Quality Parameter', 'Year'], keep=False)\n",
    "df1.shape"
   ]
  },
  {
   "cell_type": "code",
   "execution_count": 9,
   "metadata": {},
   "outputs": [
    {
     "data": {
      "text/html": [
       "<div>\n",
       "<style scoped>\n",
       "    .dataframe tbody tr th:only-of-type {\n",
       "        vertical-align: middle;\n",
       "    }\n",
       "\n",
       "    .dataframe tbody tr th {\n",
       "        vertical-align: top;\n",
       "    }\n",
       "\n",
       "    .dataframe thead th {\n",
       "        text-align: right;\n",
       "    }\n",
       "</style>\n",
       "<table border=\"1\" class=\"dataframe\">\n",
       "  <thead>\n",
       "    <tr style=\"text-align: right;\">\n",
       "      <th></th>\n",
       "      <th>State Name</th>\n",
       "      <th>District Name</th>\n",
       "      <th>Block Name</th>\n",
       "      <th>Panchayat Name</th>\n",
       "      <th>Village Name</th>\n",
       "      <th>Habitation Name</th>\n",
       "      <th>Quality Parameter</th>\n",
       "      <th>Year</th>\n",
       "    </tr>\n",
       "  </thead>\n",
       "  <tbody>\n",
       "    <tr>\n",
       "      <th>count</th>\n",
       "      <td>550073</td>\n",
       "      <td>550073</td>\n",
       "      <td>550073</td>\n",
       "      <td>550073</td>\n",
       "      <td>550073</td>\n",
       "      <td>550073</td>\n",
       "      <td>550073</td>\n",
       "      <td>550073</td>\n",
       "    </tr>\n",
       "    <tr>\n",
       "      <th>unique</th>\n",
       "      <td>27</td>\n",
       "      <td>493</td>\n",
       "      <td>3577</td>\n",
       "      <td>37471</td>\n",
       "      <td>81702</td>\n",
       "      <td>147557</td>\n",
       "      <td>5</td>\n",
       "      <td>4</td>\n",
       "    </tr>\n",
       "    <tr>\n",
       "      <th>top</th>\n",
       "      <td>RAJASTHAN</td>\n",
       "      <td>BARMER</td>\n",
       "      <td>BALESAR</td>\n",
       "      <td>RATANPUR</td>\n",
       "      <td>RAMPUR</td>\n",
       "      <td>HARIJAN TOLA</td>\n",
       "      <td>Iron</td>\n",
       "      <td>1/4/2009</td>\n",
       "    </tr>\n",
       "    <tr>\n",
       "      <th>freq</th>\n",
       "      <td>131417</td>\n",
       "      <td>43752</td>\n",
       "      <td>8358</td>\n",
       "      <td>797</td>\n",
       "      <td>691</td>\n",
       "      <td>3072</td>\n",
       "      <td>302081</td>\n",
       "      <td>179932</td>\n",
       "    </tr>\n",
       "  </tbody>\n",
       "</table>\n",
       "</div>"
      ],
      "text/plain": [
       "       State Name District Name Block Name Panchayat Name Village Name  \\\n",
       "count      550073        550073     550073         550073       550073   \n",
       "unique         27           493       3577          37471        81702   \n",
       "top     RAJASTHAN        BARMER    BALESAR       RATANPUR       RAMPUR   \n",
       "freq       131417         43752       8358            797          691   \n",
       "\n",
       "       Habitation Name Quality Parameter      Year  \n",
       "count           550073            550073    550073  \n",
       "unique          147557                 5         4  \n",
       "top       HARIJAN TOLA              Iron  1/4/2009  \n",
       "freq              3072            302081    179932  "
      ]
     },
     "execution_count": 9,
     "metadata": {},
     "output_type": "execute_result"
    }
   ],
   "source": [
    "df1.describe()"
   ]
  },
  {
   "cell_type": "code",
   "execution_count": 10,
   "metadata": {
    "scrolled": true
   },
   "outputs": [],
   "source": [
    "#Iron is the most frequent element that causes water degradation in the country"
   ]
  },
  {
   "cell_type": "code",
   "execution_count": 11,
   "metadata": {},
   "outputs": [
    {
     "data": {
      "text/plain": [
       "Iron        302081\n",
       "Salinity    108923\n",
       "Fluoride    101035\n",
       "Arsenic      25705\n",
       "Nitrate      12329\n",
       "Name: Quality Parameter, dtype: int64"
      ]
     },
     "execution_count": 11,
     "metadata": {},
     "output_type": "execute_result"
    }
   ],
   "source": [
    "df1['Quality Parameter'].value_counts()"
   ]
  },
  {
   "cell_type": "code",
   "execution_count": 12,
   "metadata": {},
   "outputs": [
    {
     "data": {
      "text/plain": [
       "<AxesSubplot:xlabel='Quality Parameter', ylabel='count'>"
      ]
     },
     "execution_count": 12,
     "metadata": {},
     "output_type": "execute_result"
    },
    {
     "data": {
      "image/png": "[encoded data removed]",
      "text/plain": [
       "<Figure size 432x288 with 1 Axes>"
      ]
     },
     "metadata": {
      "needs_background": "light"
     },
     "output_type": "display_data"
    }
   ],
   "source": [
    "#MODULE 3: DATA PROCESSING PARAMATERS\n",
    "\n",
    "import seaborn as sns\n",
    "sns.countplot(df1['Quality Parameter'])"
   ]
  },
  {
   "cell_type": "code",
   "execution_count": 13,
   "metadata": {},
   "outputs": [],
   "source": [
    "#Rajasthan is recorded in the first place to face water degaradation problems"
   ]
  },
  {
   "cell_type": "code",
   "execution_count": 14,
   "metadata": {},
   "outputs": [
    {
     "data": {
      "text/plain": [
       "RAJASTHAN            131417\n",
       "BIHAR                 92328\n",
       "ASSAM                 79910\n",
       "ORISSA                68618\n",
       "KARNATAKA             30820\n",
       "WEST BENGAL           30088\n",
       "TRIPURA               26113\n",
       "CHATTISGARH           25062\n",
       "MADHYA PRADESH        14449\n",
       "MAHARASHTRA           12480\n",
       "UTTAR PRADESH          9916\n",
       "CHHATTISGARH           8815\n",
       "KERALA                 4800\n",
       "JHARKHAND              3895\n",
       "TAMIL NADU             3164\n",
       "ANDHRA PRADESH         2888\n",
       "GUJARAT                2092\n",
       "PUNJAB                 1056\n",
       "NAGALAND                618\n",
       "ARUNACHAL PRADESH       612\n",
       "MEGHALAYA               427\n",
       "HARYANA                 262\n",
       "HIMACHAL PRADESH         88\n",
       "JAMMU AND KASHMIR        67\n",
       "UTTARAKHAND              57\n",
       "PUDUCHERRY               17\n",
       "MANIPUR                  14\n",
       "Name: State Name, dtype: int64"
      ]
     },
     "execution_count": 14,
     "metadata": {},
     "output_type": "execute_result"
    }
   ],
   "source": [
    "df1['State Name'].value_counts()\n",
    "#This may be because area wise Rajasthan is ranked highest in India"
   ]
  },
  {
   "cell_type": "code",
   "execution_count": 15,
   "metadata": {
    "scrolled": true
   },
   "outputs": [
    {
     "data": {
      "text/html": [
       "<div>\n",
       "<style scoped>\n",
       "    .dataframe tbody tr th:only-of-type {\n",
       "        vertical-align: middle;\n",
       "    }\n",
       "\n",
       "    .dataframe tbody tr th {\n",
       "        vertical-align: top;\n",
       "    }\n",
       "\n",
       "    .dataframe thead th {\n",
       "        text-align: right;\n",
       "    }\n",
       "</style>\n",
       "<table border=\"1\" class=\"dataframe\">\n",
       "  <thead>\n",
       "    <tr style=\"text-align: right;\">\n",
       "      <th></th>\n",
       "      <th>count</th>\n",
       "      <th>unique</th>\n",
       "      <th>top</th>\n",
       "      <th>freq</th>\n",
       "    </tr>\n",
       "    <tr>\n",
       "      <th>State Name</th>\n",
       "      <th></th>\n",
       "      <th></th>\n",
       "      <th></th>\n",
       "      <th></th>\n",
       "    </tr>\n",
       "  </thead>\n",
       "  <tbody>\n",
       "    <tr>\n",
       "      <th>ANDHRA PRADESH</th>\n",
       "      <td>2888</td>\n",
       "      <td>2</td>\n",
       "      <td>Fluoride</td>\n",
       "      <td>2193</td>\n",
       "    </tr>\n",
       "    <tr>\n",
       "      <th>ARUNACHAL PRADESH</th>\n",
       "      <td>612</td>\n",
       "      <td>1</td>\n",
       "      <td>Iron</td>\n",
       "      <td>612</td>\n",
       "    </tr>\n",
       "    <tr>\n",
       "      <th>ASSAM</th>\n",
       "      <td>79910</td>\n",
       "      <td>3</td>\n",
       "      <td>Iron</td>\n",
       "      <td>74098</td>\n",
       "    </tr>\n",
       "    <tr>\n",
       "      <th>BIHAR</th>\n",
       "      <td>92328</td>\n",
       "      <td>4</td>\n",
       "      <td>Iron</td>\n",
       "      <td>69962</td>\n",
       "    </tr>\n",
       "    <tr>\n",
       "      <th>CHATTISGARH</th>\n",
       "      <td>25062</td>\n",
       "      <td>5</td>\n",
       "      <td>Iron</td>\n",
       "      <td>24439</td>\n",
       "    </tr>\n",
       "    <tr>\n",
       "      <th>CHHATTISGARH</th>\n",
       "      <td>8815</td>\n",
       "      <td>3</td>\n",
       "      <td>Iron</td>\n",
       "      <td>8339</td>\n",
       "    </tr>\n",
       "    <tr>\n",
       "      <th>GUJARAT</th>\n",
       "      <td>2092</td>\n",
       "      <td>4</td>\n",
       "      <td>Fluoride</td>\n",
       "      <td>804</td>\n",
       "    </tr>\n",
       "    <tr>\n",
       "      <th>HARYANA</th>\n",
       "      <td>262</td>\n",
       "      <td>2</td>\n",
       "      <td>Fluoride</td>\n",
       "      <td>244</td>\n",
       "    </tr>\n",
       "    <tr>\n",
       "      <th>HIMACHAL PRADESH</th>\n",
       "      <td>88</td>\n",
       "      <td>3</td>\n",
       "      <td>Salinity</td>\n",
       "      <td>72</td>\n",
       "    </tr>\n",
       "    <tr>\n",
       "      <th>JAMMU AND KASHMIR</th>\n",
       "      <td>67</td>\n",
       "      <td>3</td>\n",
       "      <td>Salinity</td>\n",
       "      <td>40</td>\n",
       "    </tr>\n",
       "    <tr>\n",
       "      <th>JHARKHAND</th>\n",
       "      <td>3895</td>\n",
       "      <td>5</td>\n",
       "      <td>Iron</td>\n",
       "      <td>3238</td>\n",
       "    </tr>\n",
       "    <tr>\n",
       "      <th>KARNATAKA</th>\n",
       "      <td>30820</td>\n",
       "      <td>5</td>\n",
       "      <td>Fluoride</td>\n",
       "      <td>13152</td>\n",
       "    </tr>\n",
       "    <tr>\n",
       "      <th>KERALA</th>\n",
       "      <td>4800</td>\n",
       "      <td>4</td>\n",
       "      <td>Iron</td>\n",
       "      <td>3161</td>\n",
       "    </tr>\n",
       "    <tr>\n",
       "      <th>MADHYA PRADESH</th>\n",
       "      <td>14449</td>\n",
       "      <td>4</td>\n",
       "      <td>Fluoride</td>\n",
       "      <td>12762</td>\n",
       "    </tr>\n",
       "    <tr>\n",
       "      <th>MAHARASHTRA</th>\n",
       "      <td>12480</td>\n",
       "      <td>5</td>\n",
       "      <td>Fluoride</td>\n",
       "      <td>4184</td>\n",
       "    </tr>\n",
       "    <tr>\n",
       "      <th>MANIPUR</th>\n",
       "      <td>14</td>\n",
       "      <td>1</td>\n",
       "      <td>Iron</td>\n",
       "      <td>14</td>\n",
       "    </tr>\n",
       "    <tr>\n",
       "      <th>MEGHALAYA</th>\n",
       "      <td>427</td>\n",
       "      <td>2</td>\n",
       "      <td>Iron</td>\n",
       "      <td>425</td>\n",
       "    </tr>\n",
       "    <tr>\n",
       "      <th>NAGALAND</th>\n",
       "      <td>618</td>\n",
       "      <td>1</td>\n",
       "      <td>Iron</td>\n",
       "      <td>618</td>\n",
       "    </tr>\n",
       "    <tr>\n",
       "      <th>ORISSA</th>\n",
       "      <td>68618</td>\n",
       "      <td>5</td>\n",
       "      <td>Iron</td>\n",
       "      <td>59903</td>\n",
       "    </tr>\n",
       "    <tr>\n",
       "      <th>PUDUCHERRY</th>\n",
       "      <td>17</td>\n",
       "      <td>2</td>\n",
       "      <td>Iron</td>\n",
       "      <td>16</td>\n",
       "    </tr>\n",
       "    <tr>\n",
       "      <th>PUNJAB</th>\n",
       "      <td>1056</td>\n",
       "      <td>3</td>\n",
       "      <td>Salinity</td>\n",
       "      <td>894</td>\n",
       "    </tr>\n",
       "    <tr>\n",
       "      <th>RAJASTHAN</th>\n",
       "      <td>131417</td>\n",
       "      <td>5</td>\n",
       "      <td>Salinity</td>\n",
       "      <td>87137</td>\n",
       "    </tr>\n",
       "    <tr>\n",
       "      <th>TAMIL NADU</th>\n",
       "      <td>3164</td>\n",
       "      <td>4</td>\n",
       "      <td>Iron</td>\n",
       "      <td>2119</td>\n",
       "    </tr>\n",
       "    <tr>\n",
       "      <th>TRIPURA</th>\n",
       "      <td>26113</td>\n",
       "      <td>1</td>\n",
       "      <td>Iron</td>\n",
       "      <td>26113</td>\n",
       "    </tr>\n",
       "    <tr>\n",
       "      <th>UTTAR PRADESH</th>\n",
       "      <td>9916</td>\n",
       "      <td>5</td>\n",
       "      <td>Iron</td>\n",
       "      <td>3374</td>\n",
       "    </tr>\n",
       "    <tr>\n",
       "      <th>UTTARAKHAND</th>\n",
       "      <td>57</td>\n",
       "      <td>4</td>\n",
       "      <td>Iron</td>\n",
       "      <td>35</td>\n",
       "    </tr>\n",
       "    <tr>\n",
       "      <th>WEST BENGAL</th>\n",
       "      <td>30088</td>\n",
       "      <td>4</td>\n",
       "      <td>Arsenic</td>\n",
       "      <td>12382</td>\n",
       "    </tr>\n",
       "  </tbody>\n",
       "</table>\n",
       "</div>"
      ],
      "text/plain": [
       "                    count unique       top   freq\n",
       "State Name                                       \n",
       "ANDHRA PRADESH       2888      2  Fluoride   2193\n",
       "ARUNACHAL PRADESH     612      1      Iron    612\n",
       "ASSAM               79910      3      Iron  74098\n",
       "BIHAR               92328      4      Iron  69962\n",
       "CHATTISGARH         25062      5      Iron  24439\n",
       "CHHATTISGARH         8815      3      Iron   8339\n",
       "GUJARAT              2092      4  Fluoride    804\n",
       "HARYANA               262      2  Fluoride    244\n",
       "HIMACHAL PRADESH       88      3  Salinity     72\n",
       "JAMMU AND KASHMIR      67      3  Salinity     40\n",
       "JHARKHAND            3895      5      Iron   3238\n",
       "KARNATAKA           30820      5  Fluoride  13152\n",
       "KERALA               4800      4      Iron   3161\n",
       "MADHYA PRADESH      14449      4  Fluoride  12762\n",
       "MAHARASHTRA         12480      5  Fluoride   4184\n",
       "MANIPUR                14      1      Iron     14\n",
       "MEGHALAYA             427      2      Iron    425\n",
       "NAGALAND              618      1      Iron    618\n",
       "ORISSA              68618      5      Iron  59903\n",
       "PUDUCHERRY             17      2      Iron     16\n",
       "PUNJAB               1056      3  Salinity    894\n",
       "RAJASTHAN          131417      5  Salinity  87137\n",
       "TAMIL NADU           3164      4      Iron   2119\n",
       "TRIPURA             26113      1      Iron  26113\n",
       "UTTAR PRADESH        9916      5      Iron   3374\n",
       "UTTARAKHAND            57      4      Iron     35\n",
       "WEST BENGAL         30088      4   Arsenic  12382"
      ]
     },
     "execution_count": 15,
     "metadata": {},
     "output_type": "execute_result"
    }
   ],
   "source": [
    "df1['Quality Parameter'].groupby(df1['State Name']).describe()"
   ]
  },
  {
   "cell_type": "code",
   "execution_count": 16,
   "metadata": {},
   "outputs": [],
   "source": [
    "#Splitting the Year column to retain just the year\n",
    "df1['year'] = pd.DatetimeIndex(df1['Year']).year\n",
    "df1=df1.drop(columns='Year')"
   ]
  },
  {
   "cell_type": "code",
   "execution_count": 17,
   "metadata": {},
   "outputs": [],
   "source": [
    "#Considering the top 4 affected states RAJASTHAN,BIHAR,ASSAM & ORISSA"
   ]
  },
  {
   "cell_type": "code",
   "execution_count": 18,
   "metadata": {},
   "outputs": [],
   "source": [
    "#Subsetting the data\n",
    "df1_new=df1.loc[df['State Name'].isin(['RAJASTHAN','BIHAR','ASSAM','ORISSA'])] \n",
    "Subset_Data = df1_new[['State Name', 'Quality Parameter', 'year']]"
   ]
  },
  {
   "cell_type": "code",
   "execution_count": 19,
   "metadata": {},
   "outputs": [],
   "source": [
    "#Assigning a numerical value to all the Quality Parameters- Nominal scale\n",
    "import sklearn\n",
    "from sklearn.preprocessing import LabelEncoder\n",
    "numbers = LabelEncoder()\n",
    "Subset_Data['Quality'] = numbers.fit_transform(Subset_Data['Quality Parameter'].astype('str'))"
   ]
  },
  {
   "cell_type": "code",
   "execution_count": 20,
   "metadata": {},
   "outputs": [
    {
     "data": {
      "text/html": [
       "<div>\n",
       "<style scoped>\n",
       "    .dataframe tbody tr th:only-of-type {\n",
       "        vertical-align: middle;\n",
       "    }\n",
       "\n",
       "    .dataframe tbody tr th {\n",
       "        vertical-align: top;\n",
       "    }\n",
       "\n",
       "    .dataframe thead th {\n",
       "        text-align: right;\n",
       "    }\n",
       "</style>\n",
       "<table border=\"1\" class=\"dataframe\">\n",
       "  <thead>\n",
       "    <tr style=\"text-align: right;\">\n",
       "      <th></th>\n",
       "      <th>State Name</th>\n",
       "      <th>Quality</th>\n",
       "      <th>Quality Parameter</th>\n",
       "      <th>count</th>\n",
       "    </tr>\n",
       "  </thead>\n",
       "  <tbody>\n",
       "    <tr>\n",
       "      <th>0</th>\n",
       "      <td>ASSAM</td>\n",
       "      <td>0</td>\n",
       "      <td>Arsenic</td>\n",
       "      <td>4775</td>\n",
       "    </tr>\n",
       "    <tr>\n",
       "      <th>1</th>\n",
       "      <td>ASSAM</td>\n",
       "      <td>1</td>\n",
       "      <td>Fluoride</td>\n",
       "      <td>1037</td>\n",
       "    </tr>\n",
       "    <tr>\n",
       "      <th>2</th>\n",
       "      <td>ASSAM</td>\n",
       "      <td>2</td>\n",
       "      <td>Iron</td>\n",
       "      <td>74098</td>\n",
       "    </tr>\n",
       "    <tr>\n",
       "      <th>3</th>\n",
       "      <td>BIHAR</td>\n",
       "      <td>0</td>\n",
       "      <td>Arsenic</td>\n",
       "      <td>6215</td>\n",
       "    </tr>\n",
       "    <tr>\n",
       "      <th>4</th>\n",
       "      <td>BIHAR</td>\n",
       "      <td>1</td>\n",
       "      <td>Fluoride</td>\n",
       "      <td>16150</td>\n",
       "    </tr>\n",
       "  </tbody>\n",
       "</table>\n",
       "</div>"
      ],
      "text/plain": [
       "  State Name  Quality Quality Parameter  count\n",
       "0      ASSAM        0           Arsenic   4775\n",
       "1      ASSAM        1          Fluoride   1037\n",
       "2      ASSAM        2              Iron  74098\n",
       "3      BIHAR        0           Arsenic   6215\n",
       "4      BIHAR        1          Fluoride  16150"
      ]
     },
     "execution_count": 20,
     "metadata": {},
     "output_type": "execute_result"
    }
   ],
   "source": [
    "State_Quality_Count = pd.DataFrame({'count' : Subset_Data.groupby( [ \"State Name\", \"Quality\",\"Quality Parameter\"] ).size()}).reset_index()\n",
    "State_Quality_Count.head()"
   ]
  },
  {
   "cell_type": "code",
   "execution_count": 21,
   "metadata": {},
   "outputs": [
    {
     "data": {
      "text/html": [
       "<div>\n",
       "<style scoped>\n",
       "    .dataframe tbody tr th:only-of-type {\n",
       "        vertical-align: middle;\n",
       "    }\n",
       "\n",
       "    .dataframe tbody tr th {\n",
       "        vertical-align: top;\n",
       "    }\n",
       "\n",
       "    .dataframe thead th {\n",
       "        text-align: right;\n",
       "    }\n",
       "</style>\n",
       "<table border=\"1\" class=\"dataframe\">\n",
       "  <thead>\n",
       "    <tr style=\"text-align: right;\">\n",
       "      <th></th>\n",
       "      <th>State Name</th>\n",
       "      <th>Quality</th>\n",
       "      <th>Quality Parameter</th>\n",
       "      <th>count</th>\n",
       "    </tr>\n",
       "  </thead>\n",
       "  <tbody>\n",
       "    <tr>\n",
       "      <th>16</th>\n",
       "      <td>RAJASTHAN</td>\n",
       "      <td>4</td>\n",
       "      <td>Salinity</td>\n",
       "      <td>87137</td>\n",
       "    </tr>\n",
       "    <tr>\n",
       "      <th>2</th>\n",
       "      <td>ASSAM</td>\n",
       "      <td>2</td>\n",
       "      <td>Iron</td>\n",
       "      <td>74098</td>\n",
       "    </tr>\n",
       "    <tr>\n",
       "      <th>5</th>\n",
       "      <td>BIHAR</td>\n",
       "      <td>2</td>\n",
       "      <td>Iron</td>\n",
       "      <td>69962</td>\n",
       "    </tr>\n",
       "    <tr>\n",
       "      <th>9</th>\n",
       "      <td>ORISSA</td>\n",
       "      <td>2</td>\n",
       "      <td>Iron</td>\n",
       "      <td>59903</td>\n",
       "    </tr>\n",
       "    <tr>\n",
       "      <th>13</th>\n",
       "      <td>RAJASTHAN</td>\n",
       "      <td>1</td>\n",
       "      <td>Fluoride</td>\n",
       "      <td>40417</td>\n",
       "    </tr>\n",
       "  </tbody>\n",
       "</table>\n",
       "</div>"
      ],
      "text/plain": [
       "   State Name  Quality Quality Parameter  count\n",
       "16  RAJASTHAN        4          Salinity  87137\n",
       "2       ASSAM        2              Iron  74098\n",
       "5       BIHAR        2              Iron  69962\n",
       "9      ORISSA        2              Iron  59903\n",
       "13  RAJASTHAN        1          Fluoride  40417"
      ]
     },
     "execution_count": 21,
     "metadata": {},
     "output_type": "execute_result"
    }
   ],
   "source": [
    "High_Quality_count = State_Quality_Count.sort_values(['count'], ascending=[False])\n",
    "High_Quality_count.head()"
   ]
  },
  {
   "cell_type": "code",
   "execution_count": 22,
   "metadata": {},
   "outputs": [
    {
     "data": {
      "text/html": [
       "<div>\n",
       "<style scoped>\n",
       "    .dataframe tbody tr th:only-of-type {\n",
       "        vertical-align: middle;\n",
       "    }\n",
       "\n",
       "    .dataframe tbody tr th {\n",
       "        vertical-align: top;\n",
       "    }\n",
       "\n",
       "    .dataframe thead th {\n",
       "        text-align: right;\n",
       "    }\n",
       "</style>\n",
       "<table border=\"1\" class=\"dataframe\">\n",
       "  <thead>\n",
       "    <tr style=\"text-align: right;\">\n",
       "      <th></th>\n",
       "      <th>State Name</th>\n",
       "      <th>Quality</th>\n",
       "      <th>Quality Parameter</th>\n",
       "      <th>year</th>\n",
       "      <th>count</th>\n",
       "    </tr>\n",
       "  </thead>\n",
       "  <tbody>\n",
       "    <tr>\n",
       "      <th>0</th>\n",
       "      <td>ASSAM</td>\n",
       "      <td>0</td>\n",
       "      <td>Arsenic</td>\n",
       "      <td>2009</td>\n",
       "      <td>810</td>\n",
       "    </tr>\n",
       "    <tr>\n",
       "      <th>1</th>\n",
       "      <td>ASSAM</td>\n",
       "      <td>0</td>\n",
       "      <td>Arsenic</td>\n",
       "      <td>2010</td>\n",
       "      <td>719</td>\n",
       "    </tr>\n",
       "    <tr>\n",
       "      <th>2</th>\n",
       "      <td>ASSAM</td>\n",
       "      <td>0</td>\n",
       "      <td>Arsenic</td>\n",
       "      <td>2011</td>\n",
       "      <td>2089</td>\n",
       "    </tr>\n",
       "    <tr>\n",
       "      <th>3</th>\n",
       "      <td>ASSAM</td>\n",
       "      <td>0</td>\n",
       "      <td>Arsenic</td>\n",
       "      <td>2012</td>\n",
       "      <td>1157</td>\n",
       "    </tr>\n",
       "    <tr>\n",
       "      <th>4</th>\n",
       "      <td>ASSAM</td>\n",
       "      <td>1</td>\n",
       "      <td>Fluoride</td>\n",
       "      <td>2009</td>\n",
       "      <td>517</td>\n",
       "    </tr>\n",
       "    <tr>\n",
       "      <th>...</th>\n",
       "      <td>...</td>\n",
       "      <td>...</td>\n",
       "      <td>...</td>\n",
       "      <td>...</td>\n",
       "      <td>...</td>\n",
       "    </tr>\n",
       "    <tr>\n",
       "      <th>57</th>\n",
       "      <td>RAJASTHAN</td>\n",
       "      <td>3</td>\n",
       "      <td>Nitrate</td>\n",
       "      <td>2012</td>\n",
       "      <td>624</td>\n",
       "    </tr>\n",
       "    <tr>\n",
       "      <th>58</th>\n",
       "      <td>RAJASTHAN</td>\n",
       "      <td>4</td>\n",
       "      <td>Salinity</td>\n",
       "      <td>2009</td>\n",
       "      <td>24787</td>\n",
       "    </tr>\n",
       "    <tr>\n",
       "      <th>59</th>\n",
       "      <td>RAJASTHAN</td>\n",
       "      <td>4</td>\n",
       "      <td>Salinity</td>\n",
       "      <td>2010</td>\n",
       "      <td>23168</td>\n",
       "    </tr>\n",
       "    <tr>\n",
       "      <th>60</th>\n",
       "      <td>RAJASTHAN</td>\n",
       "      <td>4</td>\n",
       "      <td>Salinity</td>\n",
       "      <td>2011</td>\n",
       "      <td>20258</td>\n",
       "    </tr>\n",
       "    <tr>\n",
       "      <th>61</th>\n",
       "      <td>RAJASTHAN</td>\n",
       "      <td>4</td>\n",
       "      <td>Salinity</td>\n",
       "      <td>2012</td>\n",
       "      <td>18924</td>\n",
       "    </tr>\n",
       "  </tbody>\n",
       "</table>\n",
       "<p>62 rows × 5 columns</p>\n",
       "</div>"
      ],
      "text/plain": [
       "   State Name  Quality Quality Parameter  year  count\n",
       "0       ASSAM        0           Arsenic  2009    810\n",
       "1       ASSAM        0           Arsenic  2010    719\n",
       "2       ASSAM        0           Arsenic  2011   2089\n",
       "3       ASSAM        0           Arsenic  2012   1157\n",
       "4       ASSAM        1          Fluoride  2009    517\n",
       "..        ...      ...               ...   ...    ...\n",
       "57  RAJASTHAN        3           Nitrate  2012    624\n",
       "58  RAJASTHAN        4          Salinity  2009  24787\n",
       "59  RAJASTHAN        4          Salinity  2010  23168\n",
       "60  RAJASTHAN        4          Salinity  2011  20258\n",
       "61  RAJASTHAN        4          Salinity  2012  18924\n",
       "\n",
       "[62 rows x 5 columns]"
      ]
     },
     "execution_count": 22,
     "metadata": {},
     "output_type": "execute_result"
    }
   ],
   "source": [
    "State_Quality_Count_year = pd.DataFrame({'count' : Subset_Data.groupby( [ \"State Name\", \"Quality\",\"Quality Parameter\",\"year\"] ).size()}).reset_index()\n",
    "State_Quality_Count_year"
   ]
  },
  {
   "cell_type": "code",
   "execution_count": 23,
   "metadata": {},
   "outputs": [
    {
     "data": {
      "text/html": [
       "<div>\n",
       "<style scoped>\n",
       "    .dataframe tbody tr th:only-of-type {\n",
       "        vertical-align: middle;\n",
       "    }\n",
       "\n",
       "    .dataframe tbody tr th {\n",
       "        vertical-align: top;\n",
       "    }\n",
       "\n",
       "    .dataframe thead th {\n",
       "        text-align: right;\n",
       "    }\n",
       "</style>\n",
       "<table border=\"1\" class=\"dataframe\">\n",
       "  <thead>\n",
       "    <tr style=\"text-align: right;\">\n",
       "      <th></th>\n",
       "      <th>State Name</th>\n",
       "      <th>Quality</th>\n",
       "      <th>Quality Parameter</th>\n",
       "      <th>year</th>\n",
       "      <th>count</th>\n",
       "      <th>rank</th>\n",
       "    </tr>\n",
       "  </thead>\n",
       "  <tbody>\n",
       "    <tr>\n",
       "      <th>0</th>\n",
       "      <td>ASSAM</td>\n",
       "      <td>0</td>\n",
       "      <td>Arsenic</td>\n",
       "      <td>2009</td>\n",
       "      <td>810</td>\n",
       "      <td>3.0</td>\n",
       "    </tr>\n",
       "    <tr>\n",
       "      <th>1</th>\n",
       "      <td>ASSAM</td>\n",
       "      <td>0</td>\n",
       "      <td>Arsenic</td>\n",
       "      <td>2010</td>\n",
       "      <td>719</td>\n",
       "      <td>4.0</td>\n",
       "    </tr>\n",
       "    <tr>\n",
       "      <th>2</th>\n",
       "      <td>ASSAM</td>\n",
       "      <td>0</td>\n",
       "      <td>Arsenic</td>\n",
       "      <td>2011</td>\n",
       "      <td>2089</td>\n",
       "      <td>1.0</td>\n",
       "    </tr>\n",
       "    <tr>\n",
       "      <th>3</th>\n",
       "      <td>ASSAM</td>\n",
       "      <td>0</td>\n",
       "      <td>Arsenic</td>\n",
       "      <td>2012</td>\n",
       "      <td>1157</td>\n",
       "      <td>2.0</td>\n",
       "    </tr>\n",
       "    <tr>\n",
       "      <th>4</th>\n",
       "      <td>ASSAM</td>\n",
       "      <td>1</td>\n",
       "      <td>Fluoride</td>\n",
       "      <td>2009</td>\n",
       "      <td>517</td>\n",
       "      <td>1.0</td>\n",
       "    </tr>\n",
       "  </tbody>\n",
       "</table>\n",
       "</div>"
      ],
      "text/plain": [
       "  State Name  Quality Quality Parameter  year  count  rank\n",
       "0      ASSAM        0           Arsenic  2009    810   3.0\n",
       "1      ASSAM        0           Arsenic  2010    719   4.0\n",
       "2      ASSAM        0           Arsenic  2011   2089   1.0\n",
       "3      ASSAM        0           Arsenic  2012   1157   2.0\n",
       "4      ASSAM        1          Fluoride  2009    517   1.0"
      ]
     },
     "execution_count": 23,
     "metadata": {},
     "output_type": "execute_result"
    }
   ],
   "source": [
    "State_Quality_Count_year['rank']=State_Quality_Count_year.groupby(['State Name','Quality'])['count'].rank(\"dense\", ascending=False)\n",
    "State_Quality_Count_year.head()\n",
    "# Ordinal Scale ranking\n"
   ]
  },
  {
   "cell_type": "code",
   "execution_count": 24,
   "metadata": {},
   "outputs": [],
   "source": [
    "Top_count=State_Quality_Count_year[State_Quality_Count_year['rank']==1]"
   ]
  },
  {
   "cell_type": "code",
   "execution_count": 25,
   "metadata": {},
   "outputs": [],
   "source": [
    "#The top 5 states considered have encountered the highest water degradtion in the year of 2009"
   ]
  },
  {
   "cell_type": "code",
   "execution_count": 26,
   "metadata": {},
   "outputs": [
    {
     "data": {
      "image/png": "[encoded data removed]",
      "text/plain": [
       "<Figure size 648x360 with 1 Axes>"
      ]
     },
     "metadata": {
      "needs_background": "light"
     },
     "output_type": "display_data"
    }
   ],
   "source": [
    "import matplotlib.pyplot as plt\n",
    "freq_plot = Top_count['year'].value_counts().plot(kind='bar',figsize=(9,5),title=\"Year with highest water degradation\")\n",
    "freq_plot.set_xlabel(\"Year\")\n",
    "freq_plot.set_ylabel(\"Frequency\")\n",
    "plt.show()"
   ]
  },
  {
   "cell_type": "code",
   "execution_count": 27,
   "metadata": {},
   "outputs": [],
   "source": [
    "#Applying this concept to the entire data to see the worst and best year for water quality\n",
    "\n",
    "#2009 remained to be the year with highest degration where as 2011 has shifted to last position when plotted on entire data"
   ]
  },
  {
   "cell_type": "code",
   "execution_count": 28,
   "metadata": {},
   "outputs": [],
   "source": [
    "Subset_Data2 = df1[['State Name', 'Quality Parameter', 'year']]\n",
    "Subset_Data2['Quality'] = numbers.fit_transform(Subset_Data2['Quality Parameter'].astype('str'))\n",
    "SQT = pd.DataFrame({'count' : Subset_Data2.groupby( [ \"State Name\", \"Quality\",\"Quality Parameter\",\"year\"] ).size()}).reset_index()\n",
    "SQT['rank']=SQT.groupby(['State Name','Quality'])['count'].rank(\"dense\", ascending=False)\n",
    "Top_count2=SQT[SQT['rank']==1]"
   ]
  },
  {
   "cell_type": "code",
   "execution_count": 29,
   "metadata": {},
   "outputs": [
    {
     "data": {
      "image/png": "[encoded data removed]",
      "text/plain": [
       "<Figure size 648x360 with 1 Axes>"
      ]
     },
     "metadata": {
      "needs_background": "light"
     },
     "output_type": "display_data"
    }
   ],
   "source": [
    "freq_plot = Top_count2['year'].value_counts().plot(kind='bar',figsize=(9,5),title=\"Year with highest water degradation\")\n",
    "freq_plot.set_xlabel(\"Year\")\n",
    "freq_plot.set_ylabel(\"Frequency\")\n",
    "plt.show()"
   ]
  },
  {
   "cell_type": "code",
   "execution_count": 30,
   "metadata": {},
   "outputs": [],
   "source": [
    "#Trend of Quality Parameters over the years\n",
    "\n",
    "#Except Nitrate, all the Quality Parameters followed a similar pattern through out the years. The amount of all the elements resuced significantly over years."
   ]
  },
  {
   "cell_type": "code",
   "execution_count": 31,
   "metadata": {},
   "outputs": [
    {
     "data": {
      "text/html": [
       "<div>\n",
       "<style scoped>\n",
       "    .dataframe tbody tr th:only-of-type {\n",
       "        vertical-align: middle;\n",
       "    }\n",
       "\n",
       "    .dataframe tbody tr th {\n",
       "        vertical-align: top;\n",
       "    }\n",
       "\n",
       "    .dataframe thead th {\n",
       "        text-align: right;\n",
       "    }\n",
       "</style>\n",
       "<table border=\"1\" class=\"dataframe\">\n",
       "  <thead>\n",
       "    <tr style=\"text-align: right;\">\n",
       "      <th></th>\n",
       "      <th>Quality</th>\n",
       "      <th>year</th>\n",
       "      <th>count</th>\n",
       "    </tr>\n",
       "  </thead>\n",
       "  <tbody>\n",
       "    <tr>\n",
       "      <th>0</th>\n",
       "      <td>0</td>\n",
       "      <td>2009</td>\n",
       "      <td>9504</td>\n",
       "    </tr>\n",
       "    <tr>\n",
       "      <th>1</th>\n",
       "      <td>0</td>\n",
       "      <td>2010</td>\n",
       "      <td>6548</td>\n",
       "    </tr>\n",
       "    <tr>\n",
       "      <th>2</th>\n",
       "      <td>0</td>\n",
       "      <td>2011</td>\n",
       "      <td>5339</td>\n",
       "    </tr>\n",
       "    <tr>\n",
       "      <th>3</th>\n",
       "      <td>0</td>\n",
       "      <td>2012</td>\n",
       "      <td>4314</td>\n",
       "    </tr>\n",
       "    <tr>\n",
       "      <th>4</th>\n",
       "      <td>1</td>\n",
       "      <td>2009</td>\n",
       "      <td>33361</td>\n",
       "    </tr>\n",
       "  </tbody>\n",
       "</table>\n",
       "</div>"
      ],
      "text/plain": [
       "   Quality  year  count\n",
       "0        0  2009   9504\n",
       "1        0  2010   6548\n",
       "2        0  2011   5339\n",
       "3        0  2012   4314\n",
       "4        1  2009  33361"
      ]
     },
     "execution_count": 31,
     "metadata": {},
     "output_type": "execute_result"
    }
   ],
   "source": [
    "Quality = pd.DataFrame({'count' : Subset_Data2.groupby( [ \"Quality\",\"year\"] ).size()}).reset_index()\n",
    "Quality.head()"
   ]
  },
  {
   "cell_type": "code",
   "execution_count": 32,
   "metadata": {},
   "outputs": [
    {
     "data": {
      "image/png": "[encoded data removed]",
      "text/plain": [
       "<Figure size 432x288 with 1 Axes>"
      ]
     },
     "metadata": {
      "needs_background": "light"
     },
     "output_type": "display_data"
    }
   ],
   "source": [
    "#MODULE 4: REPORT\n",
    "\n",
    "Arsenic=Quality[Quality['Quality']==0]\n",
    "Arsenic.plot('year','count',kind='scatter', layout=(5,5),title= \"Arsenic distribution\")\n",
    "plt.show()"
   ]
  },
  {
   "cell_type": "code",
   "execution_count": 33,
   "metadata": {},
   "outputs": [
    {
     "data": {
      "image/png": "[encoded data removed]",
      "text/plain": [
       "<Figure size 432x288 with 1 Axes>"
      ]
     },
     "metadata": {
      "needs_background": "light"
     },
     "output_type": "display_data"
    }
   ],
   "source": [
    "Fluoride=Quality[Quality['Quality']==1]\n",
    "Fluoride.plot(\"year\",'count',kind='scatter', layout=(5,5),title= \"Fluoride distribution\")\n",
    "plt.show()"
   ]
  },
  {
   "cell_type": "code",
   "execution_count": 34,
   "metadata": {},
   "outputs": [
    {
     "data": {
      "image/png": "[encoded data removed]",
      "text/plain": [
       "<Figure size 432x288 with 1 Axes>"
      ]
     },
     "metadata": {
      "needs_background": "light"
     },
     "output_type": "display_data"
    }
   ],
   "source": [
    "Iron=Quality[Quality['Quality']==2]\n",
    "Iron.plot('year','count',kind='scatter', layout=(5,5),title= \"Iron distribution\")\n",
    "plt.show()"
   ]
  },
  {
   "cell_type": "code",
   "execution_count": 35,
   "metadata": {},
   "outputs": [
    {
     "data": {
      "image/png": "[encoded data removed]",
      "text/plain": [
       "<Figure size 432x288 with 1 Axes>"
      ]
     },
     "metadata": {
      "needs_background": "light"
     },
     "output_type": "display_data"
    }
   ],
   "source": [
    "Nitrate=Quality[Quality['Quality']==3]\n",
    "Nitrate.plot('year','count',kind='scatter', layout=(5,5),title= \"Nitrate distribution\")\n",
    "plt.show()"
   ]
  },
  {
   "cell_type": "code",
   "execution_count": 36,
   "metadata": {},
   "outputs": [
    {
     "data": {
      "image/png": "[encoded data removed]",
      "text/plain": [
       "<Figure size 432x288 with 1 Axes>"
      ]
     },
     "metadata": {
      "needs_background": "light"
     },
     "output_type": "display_data"
    }
   ],
   "source": [
    "Salinity=Quality[Quality['Quality']==4]\n",
    "Salinity.plot('year','count',kind='scatter', layout=(5,5),title= \"Salinity distribution\")\n",
    "plt.show()"
   ]
  },
  {
   "cell_type": "code",
   "execution_count": 37,
   "metadata": {},
   "outputs": [],
   "source": [
    "#Digging deep to know the reasons why Nitrate peaked its value in 2011 and in which states"
   ]
  },
  {
   "cell_type": "code",
   "execution_count": 38,
   "metadata": {},
   "outputs": [],
   "source": [
    "#In 2011"
   ]
  },
  {
   "cell_type": "code",
   "execution_count": 39,
   "metadata": {},
   "outputs": [
    {
     "data": {
      "text/html": [
       "<div>\n",
       "<style scoped>\n",
       "    .dataframe tbody tr th:only-of-type {\n",
       "        vertical-align: middle;\n",
       "    }\n",
       "\n",
       "    .dataframe tbody tr th {\n",
       "        vertical-align: top;\n",
       "    }\n",
       "\n",
       "    .dataframe thead th {\n",
       "        text-align: right;\n",
       "    }\n",
       "</style>\n",
       "<table border=\"1\" class=\"dataframe\">\n",
       "  <thead>\n",
       "    <tr style=\"text-align: right;\">\n",
       "      <th></th>\n",
       "      <th>State Name</th>\n",
       "      <th>Quality</th>\n",
       "      <th>year</th>\n",
       "      <th>count</th>\n",
       "    </tr>\n",
       "  </thead>\n",
       "  <tbody>\n",
       "    <tr>\n",
       "      <th>112</th>\n",
       "      <td>KARNATAKA</td>\n",
       "      <td>3</td>\n",
       "      <td>2011</td>\n",
       "      <td>1769</td>\n",
       "    </tr>\n",
       "    <tr>\n",
       "      <th>226</th>\n",
       "      <td>RAJASTHAN</td>\n",
       "      <td>3</td>\n",
       "      <td>2011</td>\n",
       "      <td>1106</td>\n",
       "    </tr>\n",
       "    <tr>\n",
       "      <th>160</th>\n",
       "      <td>MAHARASHTRA</td>\n",
       "      <td>3</td>\n",
       "      <td>2011</td>\n",
       "      <td>763</td>\n",
       "    </tr>\n",
       "    <tr>\n",
       "      <th>57</th>\n",
       "      <td>GUJARAT</td>\n",
       "      <td>3</td>\n",
       "      <td>2011</td>\n",
       "      <td>147</td>\n",
       "    </tr>\n",
       "    <tr>\n",
       "      <th>128</th>\n",
       "      <td>KERALA</td>\n",
       "      <td>3</td>\n",
       "      <td>2011</td>\n",
       "      <td>46</td>\n",
       "    </tr>\n",
       "    <tr>\n",
       "      <th>190</th>\n",
       "      <td>ORISSA</td>\n",
       "      <td>3</td>\n",
       "      <td>2011</td>\n",
       "      <td>28</td>\n",
       "    </tr>\n",
       "    <tr>\n",
       "      <th>240</th>\n",
       "      <td>TAMIL NADU</td>\n",
       "      <td>3</td>\n",
       "      <td>2011</td>\n",
       "      <td>3</td>\n",
       "    </tr>\n",
       "    <tr>\n",
       "      <th>280</th>\n",
       "      <td>UTTARAKHAND</td>\n",
       "      <td>3</td>\n",
       "      <td>2011</td>\n",
       "      <td>2</td>\n",
       "    </tr>\n",
       "    <tr>\n",
       "      <th>95</th>\n",
       "      <td>JHARKHAND</td>\n",
       "      <td>3</td>\n",
       "      <td>2011</td>\n",
       "      <td>1</td>\n",
       "    </tr>\n",
       "    <tr>\n",
       "      <th>144</th>\n",
       "      <td>MADHYA PRADESH</td>\n",
       "      <td>3</td>\n",
       "      <td>2011</td>\n",
       "      <td>1</td>\n",
       "    </tr>\n",
       "    <tr>\n",
       "      <th>264</th>\n",
       "      <td>UTTAR PRADESH</td>\n",
       "      <td>3</td>\n",
       "      <td>2011</td>\n",
       "      <td>1</td>\n",
       "    </tr>\n",
       "  </tbody>\n",
       "</table>\n",
       "</div>"
      ],
      "text/plain": [
       "         State Name  Quality  year  count\n",
       "112       KARNATAKA        3  2011   1769\n",
       "226       RAJASTHAN        3  2011   1106\n",
       "160     MAHARASHTRA        3  2011    763\n",
       "57          GUJARAT        3  2011    147\n",
       "128          KERALA        3  2011     46\n",
       "190          ORISSA        3  2011     28\n",
       "240      TAMIL NADU        3  2011      3\n",
       "280     UTTARAKHAND        3  2011      2\n",
       "95        JHARKHAND        3  2011      1\n",
       "144  MADHYA PRADESH        3  2011      1\n",
       "264   UTTAR PRADESH        3  2011      1"
      ]
     },
     "execution_count": 39,
     "metadata": {},
     "output_type": "execute_result"
    }
   ],
   "source": [
    "State_Quality = pd.DataFrame({'count' : Subset_Data2.groupby( [ \"State Name\",\"Quality\",\"year\"] ).size()}).reset_index()\n",
    "State_Nitrate_Quality=State_Quality[(State_Quality['year']==2011) & (State_Quality['Quality']==3)]\n",
    "State_Nitrate_Quality.sort_values(['count'], ascending=[False])"
   ]
  },
  {
   "cell_type": "code",
   "execution_count": 40,
   "metadata": {},
   "outputs": [],
   "source": [
    "#In 2010"
   ]
  },
  {
   "cell_type": "code",
   "execution_count": 41,
   "metadata": {},
   "outputs": [
    {
     "data": {
      "text/html": [
       "<div>\n",
       "<style scoped>\n",
       "    .dataframe tbody tr th:only-of-type {\n",
       "        vertical-align: middle;\n",
       "    }\n",
       "\n",
       "    .dataframe tbody tr th {\n",
       "        vertical-align: top;\n",
       "    }\n",
       "\n",
       "    .dataframe thead th {\n",
       "        text-align: right;\n",
       "    }\n",
       "</style>\n",
       "<table border=\"1\" class=\"dataframe\">\n",
       "  <thead>\n",
       "    <tr style=\"text-align: right;\">\n",
       "      <th></th>\n",
       "      <th>State Name</th>\n",
       "      <th>Quality</th>\n",
       "      <th>year</th>\n",
       "      <th>count</th>\n",
       "    </tr>\n",
       "  </thead>\n",
       "  <tbody>\n",
       "    <tr>\n",
       "      <th>159</th>\n",
       "      <td>MAHARASHTRA</td>\n",
       "      <td>3</td>\n",
       "      <td>2010</td>\n",
       "      <td>1225</td>\n",
       "    </tr>\n",
       "    <tr>\n",
       "      <th>225</th>\n",
       "      <td>RAJASTHAN</td>\n",
       "      <td>3</td>\n",
       "      <td>2010</td>\n",
       "      <td>856</td>\n",
       "    </tr>\n",
       "    <tr>\n",
       "      <th>111</th>\n",
       "      <td>KARNATAKA</td>\n",
       "      <td>3</td>\n",
       "      <td>2010</td>\n",
       "      <td>655</td>\n",
       "    </tr>\n",
       "    <tr>\n",
       "      <th>56</th>\n",
       "      <td>GUJARAT</td>\n",
       "      <td>3</td>\n",
       "      <td>2010</td>\n",
       "      <td>191</td>\n",
       "    </tr>\n",
       "    <tr>\n",
       "      <th>239</th>\n",
       "      <td>TAMIL NADU</td>\n",
       "      <td>3</td>\n",
       "      <td>2010</td>\n",
       "      <td>106</td>\n",
       "    </tr>\n",
       "    <tr>\n",
       "      <th>127</th>\n",
       "      <td>KERALA</td>\n",
       "      <td>3</td>\n",
       "      <td>2010</td>\n",
       "      <td>53</td>\n",
       "    </tr>\n",
       "    <tr>\n",
       "      <th>189</th>\n",
       "      <td>ORISSA</td>\n",
       "      <td>3</td>\n",
       "      <td>2010</td>\n",
       "      <td>28</td>\n",
       "    </tr>\n",
       "    <tr>\n",
       "      <th>43</th>\n",
       "      <td>CHATTISGARH</td>\n",
       "      <td>3</td>\n",
       "      <td>2010</td>\n",
       "      <td>8</td>\n",
       "    </tr>\n",
       "    <tr>\n",
       "      <th>143</th>\n",
       "      <td>MADHYA PRADESH</td>\n",
       "      <td>3</td>\n",
       "      <td>2010</td>\n",
       "      <td>6</td>\n",
       "    </tr>\n",
       "    <tr>\n",
       "      <th>263</th>\n",
       "      <td>UTTAR PRADESH</td>\n",
       "      <td>3</td>\n",
       "      <td>2010</td>\n",
       "      <td>2</td>\n",
       "    </tr>\n",
       "    <tr>\n",
       "      <th>279</th>\n",
       "      <td>UTTARAKHAND</td>\n",
       "      <td>3</td>\n",
       "      <td>2010</td>\n",
       "      <td>2</td>\n",
       "    </tr>\n",
       "    <tr>\n",
       "      <th>94</th>\n",
       "      <td>JHARKHAND</td>\n",
       "      <td>3</td>\n",
       "      <td>2010</td>\n",
       "      <td>1</td>\n",
       "    </tr>\n",
       "  </tbody>\n",
       "</table>\n",
       "</div>"
      ],
      "text/plain": [
       "         State Name  Quality  year  count\n",
       "159     MAHARASHTRA        3  2010   1225\n",
       "225       RAJASTHAN        3  2010    856\n",
       "111       KARNATAKA        3  2010    655\n",
       "56          GUJARAT        3  2010    191\n",
       "239      TAMIL NADU        3  2010    106\n",
       "127          KERALA        3  2010     53\n",
       "189          ORISSA        3  2010     28\n",
       "43      CHATTISGARH        3  2010      8\n",
       "143  MADHYA PRADESH        3  2010      6\n",
       "263   UTTAR PRADESH        3  2010      2\n",
       "279     UTTARAKHAND        3  2010      2\n",
       "94        JHARKHAND        3  2010      1"
      ]
     },
     "execution_count": 41,
     "metadata": {},
     "output_type": "execute_result"
    }
   ],
   "source": [
    "State_Nitrate_Quality1=State_Quality[(State_Quality['year']==2010) & (State_Quality['Quality']==3)]\n",
    "State_Nitrate_Quality1.sort_values(['count'], ascending=[False])"
   ]
  },
  {
   "cell_type": "code",
   "execution_count": 42,
   "metadata": {},
   "outputs": [],
   "source": [
    "#Karnataka and Rajasthan has high amounts of Nitrate in 2011 accounting approximately 47% and 29% of the total .\n",
    "\n",
    "#Also from 2010 to 2011, the amount of Nitrate got tripled in Karnataka and halved in Maharashtra.\n",
    "#This might be numerous reasons for this increase like high use of inorganic fertilizers, pipeline leakages, \n",
    "#Industrial pollution etc."
   ]
  }
 ],
 "metadata": {
  "kernelspec": {
   "display_name": "Python 3",
   "language": "python",
   "name": "python3"
  },
  "language_info": {
   "codemirror_mode": {
    "name": "ipython",
    "version": 3
   },
   "file_extension": ".py",
   "mimetype": "text/x-python",
   "name": "python",
   "nbconvert_exporter": "python",
   "pygments_lexer": "ipython3",
   "version": "3.8.5"
  }
 },
 "nbformat": 4,
 "nbformat_minor": 4
}
